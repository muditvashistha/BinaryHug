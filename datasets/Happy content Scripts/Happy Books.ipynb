{
 "cells": [
  {
   "cell_type": "code",
   "execution_count": 1,
   "id": "0b1ac2ae-60e4-4a36-b44b-4671d0afc514",
   "metadata": {},
   "outputs": [],
   "source": [
    "import requests\n",
    "from bs4 import BeautifulSoup\n",
    "import pandas as pd"
   ]
  },
  {
   "cell_type": "code",
   "execution_count": 5,
   "id": "a1e537bb-15f3-4617-a765-66d6bf854bfd",
   "metadata": {},
   "outputs": [],
   "source": [
    "url='https://www.panmacmillan.com/blogs/general/uplifting-happy-books'"
   ]
  },
  {
   "cell_type": "code",
   "execution_count": 6,
   "id": "06fd3e2a-f124-4fcd-a7f9-64699f1c7241",
   "metadata": {},
   "outputs": [],
   "source": [
    "response=requests.get(url)"
   ]
  },
  {
   "cell_type": "code",
   "execution_count": 7,
   "id": "df469224-ace3-475a-8578-b5db99b2d058",
   "metadata": {},
   "outputs": [
    {
     "data": {
      "text/plain": [
       "<Response [200]>"
      ]
     },
     "execution_count": 7,
     "metadata": {},
     "output_type": "execute_result"
    }
   ],
   "source": [
    "response"
   ]
  },
  {
   "cell_type": "code",
   "execution_count": 8,
   "id": "1e6093e8-ca39-46d1-bcb0-71bf8d51dedf",
   "metadata": {},
   "outputs": [],
   "source": [
    "soup = BeautifulSoup(response.content, 'html.parser')"
   ]
  },
  {
   "cell_type": "code",
   "execution_count": 17,
   "id": "6b47e7fd-3e54-4598-a17d-e89fec4cdd91",
   "metadata": {},
   "outputs": [
    {
     "name": "stdout",
     "output_type": "stream",
     "text": [
      "Confessions of a Forty-Something F**k-Up\n",
      "The Wedding Dress Sewing Circle\n",
      "In the Summertime\n",
      "Homecoming\n",
      "Cross the Line\n",
      "The Pairing\n",
      "Summer With My Sister\n",
      "Mrs Porter Calling\n",
      "The Minuscule Mansion of Myra Malone\n",
      "Bridget Jones's Diary\n",
      "Owner of a Lonely Heart\n",
      "Rewitched\n",
      "The Pre-Loved Club\n",
      "Lovelight Farms\n",
      "A Little Princess\n",
      "The Wind in the Willows\n",
      "Pride and Prejudice\n",
      "Anne of Green Gables\n",
      "Poems for Happiness\n",
      "She is Fierce\n"
     ]
    }
   ],
   "source": [
    "all_h2s = soup.find_all('h3')\n",
    "\n",
    "# Initialize an empty list to store movie titles\n",
    "book_titles = []\n",
    "books=[]\n",
    "\n",
    "# Loop through each h2 and extract the anchor tag text\n",
    "for h2 in all_h2s:\n",
    "    link = h2.find('a')\n",
    "    if link:  # Check if an anchor tag exists in this h2\n",
    "       \n",
    "        book_titles.append(link.text.strip())\n",
    "\n",
    "# Print all movie titles\n",
    "for book in book_titles:\n",
    "    dic={\n",
    "        \"title\":book\n",
    "    }\n",
    "    books.append(dic)\n",
    "    print(book)"
   ]
  },
  {
   "cell_type": "code",
   "execution_count": 19,
   "id": "b93bc7a0-44b4-41f3-8a8c-459373de4e8f",
   "metadata": {},
   "outputs": [
    {
     "data": {
      "text/plain": [
       "[{'title': 'Confessions of a Forty-Something F**k-Up'},\n",
       " {'title': 'The Wedding Dress Sewing Circle'},\n",
       " {'title': 'In the Summertime'},\n",
       " {'title': 'Homecoming'},\n",
       " {'title': 'Cross the Line'},\n",
       " {'title': 'The Pairing'},\n",
       " {'title': 'Summer With My Sister'},\n",
       " {'title': 'Mrs Porter Calling'},\n",
       " {'title': 'The Minuscule Mansion of Myra Malone'},\n",
       " {'title': \"Bridget Jones's Diary\"},\n",
       " {'title': 'Owner of a Lonely Heart'},\n",
       " {'title': 'Rewitched'},\n",
       " {'title': 'The Pre-Loved Club'},\n",
       " {'title': 'Lovelight Farms'},\n",
       " {'title': 'A Little Princess'},\n",
       " {'title': 'The Wind in the Willows'},\n",
       " {'title': 'Pride and Prejudice'},\n",
       " {'title': 'Anne of Green Gables'},\n",
       " {'title': 'Poems for Happiness'},\n",
       " {'title': 'She is Fierce'}]"
      ]
     },
     "execution_count": 19,
     "metadata": {},
     "output_type": "execute_result"
    }
   ],
   "source": [
    "books"
   ]
  },
  {
   "cell_type": "code",
   "execution_count": 20,
   "id": "d57e6b47-9912-4566-99d8-f4147321519e",
   "metadata": {},
   "outputs": [],
   "source": [
    "df=pd.DataFrame(books)"
   ]
  },
  {
   "cell_type": "code",
   "execution_count": 21,
   "id": "79938296-703e-40df-bd4f-a3ccfd15d795",
   "metadata": {},
   "outputs": [
    {
     "data": {
      "text/html": [
       "<div>\n",
       "<style scoped>\n",
       "    .dataframe tbody tr th:only-of-type {\n",
       "        vertical-align: middle;\n",
       "    }\n",
       "\n",
       "    .dataframe tbody tr th {\n",
       "        vertical-align: top;\n",
       "    }\n",
       "\n",
       "    .dataframe thead th {\n",
       "        text-align: right;\n",
       "    }\n",
       "</style>\n",
       "<table border=\"1\" class=\"dataframe\">\n",
       "  <thead>\n",
       "    <tr style=\"text-align: right;\">\n",
       "      <th></th>\n",
       "      <th>title</th>\n",
       "    </tr>\n",
       "  </thead>\n",
       "  <tbody>\n",
       "    <tr>\n",
       "      <th>0</th>\n",
       "      <td>Confessions of a Forty-Something F**k-Up</td>\n",
       "    </tr>\n",
       "    <tr>\n",
       "      <th>1</th>\n",
       "      <td>The Wedding Dress Sewing Circle</td>\n",
       "    </tr>\n",
       "    <tr>\n",
       "      <th>2</th>\n",
       "      <td>In the Summertime</td>\n",
       "    </tr>\n",
       "    <tr>\n",
       "      <th>3</th>\n",
       "      <td>Homecoming</td>\n",
       "    </tr>\n",
       "    <tr>\n",
       "      <th>4</th>\n",
       "      <td>Cross the Line</td>\n",
       "    </tr>\n",
       "    <tr>\n",
       "      <th>5</th>\n",
       "      <td>The Pairing</td>\n",
       "    </tr>\n",
       "    <tr>\n",
       "      <th>6</th>\n",
       "      <td>Summer With My Sister</td>\n",
       "    </tr>\n",
       "    <tr>\n",
       "      <th>7</th>\n",
       "      <td>Mrs Porter Calling</td>\n",
       "    </tr>\n",
       "    <tr>\n",
       "      <th>8</th>\n",
       "      <td>The Minuscule Mansion of Myra Malone</td>\n",
       "    </tr>\n",
       "    <tr>\n",
       "      <th>9</th>\n",
       "      <td>Bridget Jones's Diary</td>\n",
       "    </tr>\n",
       "    <tr>\n",
       "      <th>10</th>\n",
       "      <td>Owner of a Lonely Heart</td>\n",
       "    </tr>\n",
       "    <tr>\n",
       "      <th>11</th>\n",
       "      <td>Rewitched</td>\n",
       "    </tr>\n",
       "    <tr>\n",
       "      <th>12</th>\n",
       "      <td>The Pre-Loved Club</td>\n",
       "    </tr>\n",
       "    <tr>\n",
       "      <th>13</th>\n",
       "      <td>Lovelight Farms</td>\n",
       "    </tr>\n",
       "    <tr>\n",
       "      <th>14</th>\n",
       "      <td>A Little Princess</td>\n",
       "    </tr>\n",
       "    <tr>\n",
       "      <th>15</th>\n",
       "      <td>The Wind in the Willows</td>\n",
       "    </tr>\n",
       "    <tr>\n",
       "      <th>16</th>\n",
       "      <td>Pride and Prejudice</td>\n",
       "    </tr>\n",
       "    <tr>\n",
       "      <th>17</th>\n",
       "      <td>Anne of Green Gables</td>\n",
       "    </tr>\n",
       "    <tr>\n",
       "      <th>18</th>\n",
       "      <td>Poems for Happiness</td>\n",
       "    </tr>\n",
       "    <tr>\n",
       "      <th>19</th>\n",
       "      <td>She is Fierce</td>\n",
       "    </tr>\n",
       "  </tbody>\n",
       "</table>\n",
       "</div>"
      ],
      "text/plain": [
       "                                       title\n",
       "0   Confessions of a Forty-Something F**k-Up\n",
       "1            The Wedding Dress Sewing Circle\n",
       "2                          In the Summertime\n",
       "3                                 Homecoming\n",
       "4                             Cross the Line\n",
       "5                                The Pairing\n",
       "6                      Summer With My Sister\n",
       "7                         Mrs Porter Calling\n",
       "8       The Minuscule Mansion of Myra Malone\n",
       "9                      Bridget Jones's Diary\n",
       "10                   Owner of a Lonely Heart\n",
       "11                                 Rewitched\n",
       "12                        The Pre-Loved Club\n",
       "13                           Lovelight Farms\n",
       "14                         A Little Princess\n",
       "15                   The Wind in the Willows\n",
       "16                       Pride and Prejudice\n",
       "17                      Anne of Green Gables\n",
       "18                       Poems for Happiness\n",
       "19                             She is Fierce"
      ]
     },
     "execution_count": 21,
     "metadata": {},
     "output_type": "execute_result"
    }
   ],
   "source": [
    "df"
   ]
  },
  {
   "cell_type": "code",
   "execution_count": 22,
   "id": "f34a229f-ad6d-4e86-a7e5-3ee36467cc9a",
   "metadata": {},
   "outputs": [],
   "source": [
    "df.to_csv('Happy Books.csv',index=False)"
   ]
  },
  {
   "cell_type": "code",
   "execution_count": null,
   "id": "d5ab0fb1-d9bb-4d8c-a626-cea31529396c",
   "metadata": {},
   "outputs": [],
   "source": []
  }
 ],
 "metadata": {
  "kernelspec": {
   "display_name": "Python 3 (ipykernel)",
   "language": "python",
   "name": "python3"
  },
  "language_info": {
   "codemirror_mode": {
    "name": "ipython",
    "version": 3
   },
   "file_extension": ".py",
   "mimetype": "text/x-python",
   "name": "python",
   "nbconvert_exporter": "python",
   "pygments_lexer": "ipython3",
   "version": "3.11.5"
  }
 },
 "nbformat": 4,
 "nbformat_minor": 5
}
