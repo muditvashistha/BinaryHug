{
 "cells": [
  {
   "cell_type": "code",
   "execution_count": 32,
   "id": "1250885c-02a1-49da-8881-5d5cee07596e",
   "metadata": {},
   "outputs": [],
   "source": [
    "import requests\n",
    "from bs4 import BeautifulSoup\n",
    "import pandas as pd"
   ]
  },
  {
   "cell_type": "code",
   "execution_count": 33,
   "id": "c283b368-8e34-4785-830c-005faaa0abf1",
   "metadata": {},
   "outputs": [],
   "source": [
    "url='https://harpercollins.co.in/blog/editors-recommend/30-books-for-people-suffering-from-depression/'"
   ]
  },
  {
   "cell_type": "code",
   "execution_count": 34,
   "id": "3d9ba49b-2419-4969-839c-02b611f037ed",
   "metadata": {},
   "outputs": [],
   "source": [
    "response=requests.get(url)"
   ]
  },
  {
   "cell_type": "code",
   "execution_count": 35,
   "id": "7492b136-3da8-4191-8b96-c8e6e70b73c9",
   "metadata": {},
   "outputs": [
    {
     "data": {
      "text/plain": [
       "<Response [200]>"
      ]
     },
     "execution_count": 35,
     "metadata": {},
     "output_type": "execute_result"
    }
   ],
   "source": [
    "response"
   ]
  },
  {
   "cell_type": "code",
   "execution_count": 36,
   "id": "d57ea22c-829c-45fd-8871-3a7923b24ddd",
   "metadata": {},
   "outputs": [],
   "source": [
    "soup=BeautifulSoup(response.content,'html.parser')"
   ]
  },
  {
   "cell_type": "code",
   "execution_count": 37,
   "id": "46f0c428-f7ae-4e41-874c-03b16d81a325",
   "metadata": {},
   "outputs": [],
   "source": [
    "p=soup.find_all(attrs={\"class\": \"top-info\"})"
   ]
  },
  {
   "cell_type": "code",
   "execution_count": 38,
   "id": "aac56257-3c46-4a53-8b57-15c916ca8938",
   "metadata": {},
   "outputs": [
    {
     "data": {
      "text/plain": [
       "[<div class=\"top-info\"> <a class=\"title-link\" href=\"https://harpercollins.co.in/product/the-moral-compass/\">The Moral Compass <br/><span>by Hardayal Singh</span></a> <p>Now and then, life brings us to a critical juncture where we must make tough decisions. However, the stakes are sometimes so high that our values and ethics take a back seat over convenience and instant benefit. Most decisions of…</p> <div class=\"clearfix\"> <a class=\"link-button left\" href=\"https://harpercollins.co.in/product/the-moral-compass/\">Read More</a> </div> </div>,\n",
       " <div class=\"top-info\"> <a class=\"title-link\" href=\"https://harpercollins.co.in/product/the-happiness-trail/\">The Happiness Trail <br/><span>by Ramesh Venkateswaran</span></a> <p>We live in a fast-paced and highly competitive world. The last few years have seen changes not witnessed in centuries. Have all these developments increased our sense of well-being? Data seems to suggest otherwise!The Happiness Trail shows us an attainable,…</p> <div class=\"clearfix\"> <a class=\"link-button left\" href=\"https://harpercollins.co.in/product/the-happiness-trail/\">Read More</a> </div> </div>,\n",
       " <div class=\"top-info\"> <a class=\"title-link\" href=\"https://harpercollins.co.in/product/how-to-live-your-life/\">How To Live Your Life <br/><span>by Ruskin Bond</span></a> <p>It's a letter with advice ... it's Ruskin Bond's definition of Life!Be whatever you want to be...Give it your heart and soul, and you will have made something of your life, my friend. You are all my sons and daughters…</p> <div class=\"clearfix\"> <a class=\"link-button left\" href=\"https://harpercollins.co.in/product/how-to-live-your-life/\">Read More</a> </div> </div>,\n",
       " <div class=\"top-info\"> <a class=\"title-link\" href=\"https://harpercollins.co.in/product/youth-and-truth/\">Youth and Truth <br/><span>by Sadhguru</span></a> <p>What happens when millennials meet a mystic? An avalanche of queries and an unflinching stream of answers. In this compilation of five talks from Youth and Truth events, Sadhguru fields questions that are quirky, personal, profound and shockingly bold from…</p> <div class=\"clearfix\"> <a class=\"link-button left\" href=\"https://harpercollins.co.in/product/youth-and-truth/\">Read More</a> </div> </div>,\n",
       " <div class=\"top-info\"> <a class=\"title-link\" href=\"https://harpercollins.co.in/product/hear-yourself/\">Hear Yourself <br/><span>by Prem Rawat</span></a> <p>Internationally popular spiritual teacher Prem Rawat guides readers on the journey to turn down the noise of our busy world so we can hear the voice of inner peace within us.</p> <div class=\"clearfix\"> <a class=\"link-button left\" href=\"https://harpercollins.co.in/product/hear-yourself/\">Read More</a> </div> </div>,\n",
       " <div class=\"top-info\"> <a class=\"title-link\" href=\"https://harpercollins.co.in/product/ten-times-happier/\">Ten Times Happier <br/><span>by Owen O'Kane</span></a> <p>Owen is an expert at showing, in his brilliantly down-to-earth way, how we can find happiness in the real world.’ Rob Rinder, aka Judge Rinder</p> <div class=\"clearfix\"> <a class=\"link-button left\" href=\"https://harpercollins.co.in/product/ten-times-happier/\">Read More</a> </div> </div>,\n",
       " <div class=\"top-info\"> <a class=\"title-link\" href=\"https://harpercollins.co.in/product/13-things-mentally-strong-people-dont-do/\">13 Things Mentally Strong People Don'T Do <br/><span>by Amy Morin</span></a> <p>Morin knows that of which she speaks. At just 26, while working as a Psychologist and therapist, Morin’s husband died suddenly. Inwardly reeling, she realised what pitfalls she didn’t want to succumb to: self-pity, a sense of entitlement and resentment.…</p> <div class=\"clearfix\"> <a class=\"link-button left\" href=\"https://harpercollins.co.in/product/13-things-mentally-strong-people-dont-do/\">Read More</a> </div> </div>,\n",
       " <div class=\"top-info\"> <a class=\"title-link\" href=\"https://harpercollins.co.in/product/happiness-project/\">Happiness Project, Tenth Anniversary Edn <br/><span>by Gretchen Rubin</span></a> <p>#1 New York Times Bestseller. “An enlightening, laugh-aloud read. . . . Filled with open, honest glimpses into [Rubin’s] real life, woven together with constant doses of humor.” —Christian Science Monitor Gretchen Rubin’s year-long experiment to discover how to create true happiness.…</p> <div class=\"clearfix\"> <a class=\"link-button left\" href=\"https://harpercollins.co.in/product/happiness-project/\">Read More</a> </div> </div>,\n",
       " <div class=\"top-info\"> <a class=\"title-link\" href=\"https://harpercollins.co.in/product/didnt-see-that-coming/\">Didn'T See That Coming                                       <br/><span>by Rachel                                              Hollis</span></a> <p>I want you to know that what's been good will always be good: the smell of coconut sunblock, a five year old showing you the spot where his front tooth used to be, a home-cooked meal, when your love kisses…</p> <div class=\"clearfix\"> <a class=\"link-button left\" href=\"https://harpercollins.co.in/product/didnt-see-that-coming/\">Read More</a> </div> </div>,\n",
       " <div class=\"top-info\"> <a class=\"title-link\" href=\"https://harpercollins.co.in/product/stop-doing-that-sht/\">Stop Doing That Sh*T <br/><span>by Gary John Bishop</span></a> <p>In Unfu*k Yourself, Gary John Bishop told us it was time to stop making excuses– to recognize and take responsibility for the negative self-talk holding us back. In Stop Doing That Sh*t, he builds on that message, teaching us how…</p> <div class=\"clearfix\"> <a class=\"link-button left\" href=\"https://harpercollins.co.in/product/stop-doing-that-sht/\">Read More</a> </div> </div>,\n",
       " <div class=\"top-info\"> <a class=\"title-link\" href=\"https://harpercollins.co.in/product/when-all-is-not-well/\">When All Is Not Well <br/><span>by Om Swami</span></a> <p>'I've heard so many people tell those who suffer from depression to just cheer up\". Do they really believe it's that simple?' Depression isn't just sadness. It is misery. It is both pain and nothingness. People don't 'have' depression, they…</p> <div class=\"clearfix\"> <a class=\"link-button left\" href=\"https://harpercollins.co.in/product/when-all-is-not-well/\">Read More</a> </div> </div>,\n",
       " <div class=\"top-info\"> <a class=\"title-link\" href=\"https://harpercollins.co.in/product/the-wellness-sense-a-practical-guide-to-your-physical-and-emotionalhealth-based-on-ayurvedic-and-yogic-wisom/\">The Wellness Sense <br/><span>by Om Swami</span></a> <p>Why do certain foods harm some people and help others? How come the results of a weight loss programme varies from individual to individual? And why do some people fall sick more often than others? The science of Ayurveda holds…</p> <div class=\"clearfix\"> <a class=\"link-button left\" href=\"https://harpercollins.co.in/product/the-wellness-sense-a-practical-guide-to-your-physical-and-emotionalhealth-based-on-ayurvedic-and-yogic-wisom/\">Read More</a> </div> </div>,\n",
       " <div class=\"top-info\"> <a class=\"title-link\" href=\"https://harpercollins.co.in/product/understanding-our-mind/\">Understanding Our Mind <br/><span>by Thich Nhat Hahn</span></a> <p>Understanding Our Mind is an accessible guide for anyone who is curious about the inner workings of the mind. Originally released as Tranformation at the base, a finalist for the 2001 Nautilus Award, this seminal work on Buddhist applied psychology…</p> <div class=\"clearfix\"> <a class=\"link-button left\" href=\"https://harpercollins.co.in/product/understanding-our-mind/\">Read More</a> </div> </div>,\n",
       " <div class=\"top-info\"> <a class=\"title-link\" href=\"https://harpercollins.co.in/product/feeling-good/\">Feeling Good <br/><span>by David D. Burns</span></a> <p>From nationally recognized psychiatrist Dr. David D. Burns, comes the clinically proven drug-free treatment for depression.</p> <div class=\"clearfix\"> <a class=\"link-button left\" href=\"https://harpercollins.co.in/product/feeling-good/\">Read More</a> </div> </div>,\n",
       " <div class=\"top-info\"> <a class=\"title-link\" href=\"https://harpercollins.co.in/product/a-mind-of-your-own/\">A Mind Of Your Own <br/><span>by Dr. Kelly Brogan</span></a> <p>The UK’s mental well-being is in a state of crisis – psychiatric drugs are overprescribed and the causes of depression and anxiety oversimplified as a genetic and brain malfunction. This book debunks the myths and sets out a natural cure…</p> <div class=\"clearfix\"> <a class=\"link-button left\" href=\"https://harpercollins.co.in/product/a-mind-of-your-own/\">Read More</a> </div> </div>,\n",
       " <div class=\"top-info\"> <a class=\"title-link\" href=\"https://harpercollins.co.in/product/get-out-of-your-own-way/\">Get Out Of Your Own Way <br/><span>by Dave Hollis</span></a> <p>Dave Hollis used to think that “personal growth” was just for broken people. Then he woke up. When Dave Hollis’s wife, Rachel, began writing her #1 New York Times bestselling book, Girl, Wash Your Face, he bristled at her transparency…</p> <div class=\"clearfix\"> <a class=\"link-button left\" href=\"https://harpercollins.co.in/product/get-out-of-your-own-way/\">Read More</a> </div> </div>,\n",
       " <div class=\"top-info\"> <a class=\"title-link\" href=\"https://harpercollins.co.in/product/the-unspeakable-mind/\">The Unspeakable Mind <br/><span>by Shaili Jain</span></a> <p>From a physician and post-traumatic stress disorder specialist comes a nuanced cartography of PTSD, a widely misunderstood yet crushing condition that afflicts millions of Americans. \"Dr. Jain’s beautiful prose illuminates this widely misunderstood condition and makes for fascinating reading. It is a…</p> <div class=\"clearfix\"> <a class=\"link-button left\" href=\"https://harpercollins.co.in/product/the-unspeakable-mind/\">Read More</a> </div> </div>,\n",
       " <div class=\"top-info\"> <a class=\"title-link\" href=\"https://harpercollins.co.in/product/head-strong/\">Head Strong <br/><span>by Dave Asprey</span></a> <p>From the creator of Bulletproof Coffee and author of the bestselling The Bulletproof Diet comes a revolutionary plan to upgrade your brainpower-in two weeks or less.</p> <div class=\"clearfix\"> <a class=\"link-button left\" href=\"https://harpercollins.co.in/product/head-strong/\">Read More</a> </div> </div>,\n",
       " <div class=\"top-info\"> <a class=\"title-link\" href=\"https://harpercollins.co.in/product/anxiety-at-work/\">Anxiety At Work <br/><span>by Adrian Gostick</span></a> <p>Executive coaches Adrian Gostick and Chester Elton detail eight steps for managers to mitigate work anxiety and for employees to cope with their anxiety.</p> <div class=\"clearfix\"> <a class=\"link-button left\" href=\"https://harpercollins.co.in/product/anxiety-at-work/\">Read More</a> </div> </div>]"
      ]
     },
     "execution_count": 38,
     "metadata": {},
     "output_type": "execute_result"
    }
   ],
   "source": [
    "p"
   ]
  },
  {
   "cell_type": "code",
   "execution_count": 39,
   "id": "601b8007-f1c0-4af9-9b1c-225616c97c54",
   "metadata": {},
   "outputs": [
    {
     "name": "stdout",
     "output_type": "stream",
     "text": [
      "The Moral Compass\n",
      "The Happiness Trail\n",
      "How To Live Your Life\n",
      "Youth and Truth\n",
      "Hear Yourself\n",
      "Ten Times Happier\n",
      "13 Things Mentally Strong People Don'T Do\n",
      "Happiness Project, Tenth Anniversary Edn\n",
      "Didn'T See That Coming\n",
      "Stop Doing That Sh*T\n",
      "When All Is Not Well\n",
      "The Wellness Sense\n",
      "Understanding Our Mind\n",
      "Feeling Good\n",
      "A Mind Of Your Own\n",
      "Get Out Of Your Own Way\n",
      "The Unspeakable Mind\n",
      "Head Strong\n",
      "Anxiety At Work\n"
     ]
    }
   ],
   "source": [
    "booklist=[]\n",
    "for i in p:\n",
    "    name=i.find('a',attrs={\"class\": \"title-link\"})\n",
    "    if name:\n",
    "        name.span.decompose()\n",
    "        print(name.text.strip())\n",
    "        dic={\n",
    "            \"title\":name.text.strip()\n",
    "        }\n",
    "        booklist.append(dic)"
   ]
  },
  {
   "cell_type": "code",
   "execution_count": 40,
   "id": "21623a31-253e-41f7-91be-cef060591525",
   "metadata": {},
   "outputs": [
    {
     "data": {
      "text/plain": [
       "[{'title': 'The Moral Compass'},\n",
       " {'title': 'The Happiness Trail'},\n",
       " {'title': 'How To Live Your Life'},\n",
       " {'title': 'Youth and Truth'},\n",
       " {'title': 'Hear Yourself'},\n",
       " {'title': 'Ten Times Happier'},\n",
       " {'title': \"13 Things Mentally Strong People Don'T Do\"},\n",
       " {'title': 'Happiness Project, Tenth Anniversary Edn'},\n",
       " {'title': \"Didn'T See That Coming\"},\n",
       " {'title': 'Stop Doing That Sh*T'},\n",
       " {'title': 'When All Is Not Well'},\n",
       " {'title': 'The Wellness Sense'},\n",
       " {'title': 'Understanding Our Mind'},\n",
       " {'title': 'Feeling Good'},\n",
       " {'title': 'A Mind Of Your Own'},\n",
       " {'title': 'Get Out Of Your Own Way'},\n",
       " {'title': 'The Unspeakable Mind'},\n",
       " {'title': 'Head Strong'},\n",
       " {'title': 'Anxiety At Work'}]"
      ]
     },
     "execution_count": 40,
     "metadata": {},
     "output_type": "execute_result"
    }
   ],
   "source": [
    "booklist"
   ]
  },
  {
   "cell_type": "code",
   "execution_count": 41,
   "id": "85955853-cb9c-4109-8a04-8f02be5d5ae8",
   "metadata": {},
   "outputs": [],
   "source": [
    "df=pd.DataFrame(booklist)"
   ]
  },
  {
   "cell_type": "code",
   "execution_count": 42,
   "id": "9126b238-72b9-4e04-aee2-484a34541659",
   "metadata": {},
   "outputs": [
    {
     "data": {
      "text/html": [
       "<div>\n",
       "<style scoped>\n",
       "    .dataframe tbody tr th:only-of-type {\n",
       "        vertical-align: middle;\n",
       "    }\n",
       "\n",
       "    .dataframe tbody tr th {\n",
       "        vertical-align: top;\n",
       "    }\n",
       "\n",
       "    .dataframe thead th {\n",
       "        text-align: right;\n",
       "    }\n",
       "</style>\n",
       "<table border=\"1\" class=\"dataframe\">\n",
       "  <thead>\n",
       "    <tr style=\"text-align: right;\">\n",
       "      <th></th>\n",
       "      <th>title</th>\n",
       "    </tr>\n",
       "  </thead>\n",
       "  <tbody>\n",
       "    <tr>\n",
       "      <th>0</th>\n",
       "      <td>The Moral Compass</td>\n",
       "    </tr>\n",
       "    <tr>\n",
       "      <th>1</th>\n",
       "      <td>The Happiness Trail</td>\n",
       "    </tr>\n",
       "    <tr>\n",
       "      <th>2</th>\n",
       "      <td>How To Live Your Life</td>\n",
       "    </tr>\n",
       "    <tr>\n",
       "      <th>3</th>\n",
       "      <td>Youth and Truth</td>\n",
       "    </tr>\n",
       "    <tr>\n",
       "      <th>4</th>\n",
       "      <td>Hear Yourself</td>\n",
       "    </tr>\n",
       "    <tr>\n",
       "      <th>5</th>\n",
       "      <td>Ten Times Happier</td>\n",
       "    </tr>\n",
       "    <tr>\n",
       "      <th>6</th>\n",
       "      <td>13 Things Mentally Strong People Don'T Do</td>\n",
       "    </tr>\n",
       "    <tr>\n",
       "      <th>7</th>\n",
       "      <td>Happiness Project, Tenth Anniversary Edn</td>\n",
       "    </tr>\n",
       "    <tr>\n",
       "      <th>8</th>\n",
       "      <td>Didn'T See That Coming</td>\n",
       "    </tr>\n",
       "    <tr>\n",
       "      <th>9</th>\n",
       "      <td>Stop Doing That Sh*T</td>\n",
       "    </tr>\n",
       "    <tr>\n",
       "      <th>10</th>\n",
       "      <td>When All Is Not Well</td>\n",
       "    </tr>\n",
       "    <tr>\n",
       "      <th>11</th>\n",
       "      <td>The Wellness Sense</td>\n",
       "    </tr>\n",
       "    <tr>\n",
       "      <th>12</th>\n",
       "      <td>Understanding Our Mind</td>\n",
       "    </tr>\n",
       "    <tr>\n",
       "      <th>13</th>\n",
       "      <td>Feeling Good</td>\n",
       "    </tr>\n",
       "    <tr>\n",
       "      <th>14</th>\n",
       "      <td>A Mind Of Your Own</td>\n",
       "    </tr>\n",
       "    <tr>\n",
       "      <th>15</th>\n",
       "      <td>Get Out Of Your Own Way</td>\n",
       "    </tr>\n",
       "    <tr>\n",
       "      <th>16</th>\n",
       "      <td>The Unspeakable Mind</td>\n",
       "    </tr>\n",
       "    <tr>\n",
       "      <th>17</th>\n",
       "      <td>Head Strong</td>\n",
       "    </tr>\n",
       "    <tr>\n",
       "      <th>18</th>\n",
       "      <td>Anxiety At Work</td>\n",
       "    </tr>\n",
       "  </tbody>\n",
       "</table>\n",
       "</div>"
      ],
      "text/plain": [
       "                                        title\n",
       "0                           The Moral Compass\n",
       "1                         The Happiness Trail\n",
       "2                       How To Live Your Life\n",
       "3                             Youth and Truth\n",
       "4                               Hear Yourself\n",
       "5                           Ten Times Happier\n",
       "6   13 Things Mentally Strong People Don'T Do\n",
       "7    Happiness Project, Tenth Anniversary Edn\n",
       "8                      Didn'T See That Coming\n",
       "9                        Stop Doing That Sh*T\n",
       "10                       When All Is Not Well\n",
       "11                         The Wellness Sense\n",
       "12                     Understanding Our Mind\n",
       "13                               Feeling Good\n",
       "14                         A Mind Of Your Own\n",
       "15                    Get Out Of Your Own Way\n",
       "16                       The Unspeakable Mind\n",
       "17                                Head Strong\n",
       "18                            Anxiety At Work"
      ]
     },
     "execution_count": 42,
     "metadata": {},
     "output_type": "execute_result"
    }
   ],
   "source": [
    "df"
   ]
  },
  {
   "cell_type": "code",
   "execution_count": 43,
   "id": "fbf8848f-50a3-4633-8690-5c5d36d2afc4",
   "metadata": {},
   "outputs": [],
   "source": [
    "df.to_csv('Sad Books.csv',index=False)"
   ]
  },
  {
   "cell_type": "code",
   "execution_count": null,
   "id": "71338be9-6286-444d-ba0a-f7f651243378",
   "metadata": {},
   "outputs": [],
   "source": []
  }
 ],
 "metadata": {
  "kernelspec": {
   "display_name": "Python 3 (ipykernel)",
   "language": "python",
   "name": "python3"
  },
  "language_info": {
   "codemirror_mode": {
    "name": "ipython",
    "version": 3
   },
   "file_extension": ".py",
   "mimetype": "text/x-python",
   "name": "python",
   "nbconvert_exporter": "python",
   "pygments_lexer": "ipython3",
   "version": "3.11.5"
  }
 },
 "nbformat": 4,
 "nbformat_minor": 5
}
