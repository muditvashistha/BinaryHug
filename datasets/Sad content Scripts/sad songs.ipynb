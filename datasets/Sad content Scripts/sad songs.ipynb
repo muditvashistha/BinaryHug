{
 "cells": [
  {
   "cell_type": "code",
   "execution_count": 1,
   "id": "53492c38-83cd-4048-b429-1259269f0337",
   "metadata": {},
   "outputs": [],
   "source": [
    "import requests\n",
    "from bs4 import BeautifulSoup\n",
    "import pandas as pd"
   ]
  },
  {
   "cell_type": "code",
   "execution_count": 13,
   "id": "70a0e287-7187-426a-8c34-bcacf335511e",
   "metadata": {},
   "outputs": [],
   "source": [
    "url=\"https://www.cosmopolitan.com/entertainment/music/g33016945/sad-songs-playlist/\""
   ]
  },
  {
   "cell_type": "code",
   "execution_count": 14,
   "id": "4a13aba8-8042-4ade-8df5-7abb1541060b",
   "metadata": {},
   "outputs": [],
   "source": [
    "response=requests.get(url)"
   ]
  },
  {
   "cell_type": "code",
   "execution_count": 15,
   "id": "298fdc82-1b99-4a35-9ecc-7c0548ce64be",
   "metadata": {},
   "outputs": [
    {
     "data": {
      "text/plain": [
       "<Response [200]>"
      ]
     },
     "execution_count": 15,
     "metadata": {},
     "output_type": "execute_result"
    }
   ],
   "source": [
    "response"
   ]
  },
  {
   "cell_type": "code",
   "execution_count": 16,
   "id": "1306d8c0-a949-4e4d-8dd0-042d970a17bf",
   "metadata": {},
   "outputs": [],
   "source": [
    "soup=BeautifulSoup(response.content,'html.parser')"
   ]
  },
  {
   "cell_type": "code",
   "execution_count": 22,
   "id": "ad6f213c-b540-482b-a2c7-74e9057b3008",
   "metadata": {},
   "outputs": [],
   "source": [
    "all_h2=soup.find_all('h2',class_='css-hmb3vb e16kmapv8')"
   ]
  },
  {
   "cell_type": "code",
   "execution_count": 25,
   "id": "0a6e3ce4-0e25-40a4-b578-098da6afd117",
   "metadata": {},
   "outputs": [
    {
     "name": "stdout",
     "output_type": "stream",
     "text": [
      "[<h2 class=\"css-hmb3vb e16kmapv8\" data-theme-key=\"listicle-slide-item-title\">\"The Night We Met\" by Lord Huron</h2>, <h2 class=\"css-hmb3vb e16kmapv8\" data-theme-key=\"listicle-slide-item-title\">\"Romantic Homicide\" by d4vd</h2>, <h2 class=\"css-hmb3vb e16kmapv8\" data-theme-key=\"listicle-slide-item-title\">\"Penthouse\" by Kelsea Ballerini</h2>, <h2 class=\"css-hmb3vb e16kmapv8\" data-theme-key=\"listicle-slide-item-title\">\"It's Called: Freefall\" by Rainbow Kitten Surprise</h2>, <h2 class=\"css-hmb3vb e16kmapv8\" data-theme-key=\"listicle-slide-item-title\">\"Tired\" by Beabadoobee</h2>, <h2 class=\"css-hmb3vb e16kmapv8\" data-theme-key=\"listicle-slide-item-title\">\"BLEED\" by The Kid Laroi</h2>, <h2 class=\"css-hmb3vb e16kmapv8\" data-theme-key=\"listicle-slide-item-title\">\"Funeral\" by Phoebe Bridgers </h2>, <h2 class=\"css-hmb3vb e16kmapv8\" data-theme-key=\"listicle-slide-item-title\">\"I Remember Everything\" by Zach Bryan feat. Kacey Musgraves</h2>, <h2 class=\"css-hmb3vb e16kmapv8\" data-theme-key=\"listicle-slide-item-title\">\"fall in love with you.\" by Montell Fish</h2>, <h2 class=\"css-hmb3vb e16kmapv8\" data-theme-key=\"listicle-slide-item-title\">\"Space Song\" by Beach House</h2>, <h2 class=\"css-hmb3vb e16kmapv8\" data-theme-key=\"listicle-slide-item-title\">\"Never Felt So Alone\" by Labrinth (with Billie Eilish)</h2>, <h2 class=\"css-hmb3vb e16kmapv8\" data-theme-key=\"listicle-slide-item-title\">\"Strange\" by Celeste</h2>, <h2 class=\"css-hmb3vb e16kmapv8\" data-theme-key=\"listicle-slide-item-title\">\"It's So Hard to Say Goodbye to Yesterday\" by Boyz II Men</h2>, <h2 class=\"css-hmb3vb e16kmapv8\" data-theme-key=\"listicle-slide-item-title\">\"because i liked a boy\" by Sabrina Carpenter</h2>, <h2 class=\"css-hmb3vb e16kmapv8\" data-theme-key=\"listicle-slide-item-title\">\"Call Your Mom\" by Noah Khan, Lizzy McAlpine</h2>, <h2 class=\"css-hmb3vb e16kmapv8\" data-theme-key=\"listicle-slide-item-title\">\"Both Sides Now\" by Joni Mitchell</h2>, <h2 class=\"css-hmb3vb e16kmapv8\" data-theme-key=\"listicle-slide-item-title\">\"ceilings\" by Lizzy McAlpine</h2>, <h2 class=\"css-hmb3vb e16kmapv8\" data-theme-key=\"listicle-slide-item-title\">\"In The Kitchen\" by Renee Rapp </h2>, <h2 class=\"css-hmb3vb e16kmapv8\" data-theme-key=\"listicle-slide-item-title\">\"Liability\" by Lorde</h2>, <h2 class=\"css-hmb3vb e16kmapv8\" data-theme-key=\"listicle-slide-item-title\">\"Matilda\" by Harry Styles</h2>]\n"
     ]
    }
   ],
   "source": [
    "print(all_h2)\n",
    "sad_songs=[]"
   ]
  },
  {
   "cell_type": "code",
   "execution_count": 26,
   "id": "209efa09-df53-4593-8bd4-e0cfd1215715",
   "metadata": {},
   "outputs": [
    {
     "name": "stdout",
     "output_type": "stream",
     "text": [
      "\"The Night We Met\" by Lord Huron\n",
      "\"Romantic Homicide\" by d4vd\n",
      "\"Penthouse\" by Kelsea Ballerini\n",
      "\"It's Called: Freefall\" by Rainbow Kitten Surprise\n",
      "\"Tired\" by Beabadoobee\n",
      "\"BLEED\" by The Kid Laroi\n",
      "\"Funeral\" by Phoebe Bridgers\n",
      "\"I Remember Everything\" by Zach Bryan feat. Kacey Musgraves\n",
      "\"fall in love with you.\" by Montell Fish\n",
      "\"Space Song\" by Beach House\n",
      "\"Never Felt So Alone\" by Labrinth (with Billie Eilish)\n",
      "\"Strange\" by Celeste\n",
      "\"It's So Hard to Say Goodbye to Yesterday\" by Boyz II Men\n",
      "\"because i liked a boy\" by Sabrina Carpenter\n",
      "\"Call Your Mom\" by Noah Khan, Lizzy McAlpine\n",
      "\"Both Sides Now\" by Joni Mitchell\n",
      "\"ceilings\" by Lizzy McAlpine\n",
      "\"In The Kitchen\" by Renee Rapp\n",
      "\"Liability\" by Lorde\n",
      "\"Matilda\" by Harry Styles\n"
     ]
    }
   ],
   "source": [
    "for i in all_h2:\n",
    "    dic={\n",
    "        \"title\":i.text.strip()\n",
    "    }\n",
    "    sad_songs.append(dic)\n",
    "    print(i.text.strip())"
   ]
  },
  {
   "cell_type": "code",
   "execution_count": 27,
   "id": "fa8325fd-8e0d-411e-be25-575829de8762",
   "metadata": {},
   "outputs": [
    {
     "data": {
      "text/plain": [
       "[{'title': '\"The Night We Met\" by Lord Huron'},\n",
       " {'title': '\"Romantic Homicide\" by d4vd'},\n",
       " {'title': '\"Penthouse\" by Kelsea Ballerini'},\n",
       " {'title': '\"It\\'s Called: Freefall\" by Rainbow Kitten Surprise'},\n",
       " {'title': '\"Tired\" by Beabadoobee'},\n",
       " {'title': '\"BLEED\" by The Kid Laroi'},\n",
       " {'title': '\"Funeral\" by Phoebe Bridgers'},\n",
       " {'title': '\"I Remember Everything\" by Zach Bryan feat. Kacey Musgraves'},\n",
       " {'title': '\"fall in love with you.\" by Montell Fish'},\n",
       " {'title': '\"Space Song\" by Beach House'},\n",
       " {'title': '\"Never Felt So Alone\" by Labrinth (with Billie Eilish)'},\n",
       " {'title': '\"Strange\" by Celeste'},\n",
       " {'title': '\"It\\'s So Hard to Say Goodbye to Yesterday\" by Boyz II Men'},\n",
       " {'title': '\"because i liked a boy\" by Sabrina Carpenter'},\n",
       " {'title': '\"Call Your Mom\" by Noah Khan, Lizzy McAlpine'},\n",
       " {'title': '\"Both Sides Now\" by Joni Mitchell'},\n",
       " {'title': '\"ceilings\" by Lizzy McAlpine'},\n",
       " {'title': '\"In The Kitchen\" by Renee Rapp'},\n",
       " {'title': '\"Liability\" by Lorde'},\n",
       " {'title': '\"Matilda\" by Harry Styles'}]"
      ]
     },
     "execution_count": 27,
     "metadata": {},
     "output_type": "execute_result"
    }
   ],
   "source": [
    "sad_songs"
   ]
  },
  {
   "cell_type": "code",
   "execution_count": 28,
   "id": "9bc98d61-4684-4d4a-9e94-661fdc2c94fa",
   "metadata": {},
   "outputs": [],
   "source": [
    "df=pd.DataFrame(sad_songs)"
   ]
  },
  {
   "cell_type": "code",
   "execution_count": 29,
   "id": "67c3d862-d037-4544-8647-675f337cde8c",
   "metadata": {},
   "outputs": [
    {
     "data": {
      "text/html": [
       "<div>\n",
       "<style scoped>\n",
       "    .dataframe tbody tr th:only-of-type {\n",
       "        vertical-align: middle;\n",
       "    }\n",
       "\n",
       "    .dataframe tbody tr th {\n",
       "        vertical-align: top;\n",
       "    }\n",
       "\n",
       "    .dataframe thead th {\n",
       "        text-align: right;\n",
       "    }\n",
       "</style>\n",
       "<table border=\"1\" class=\"dataframe\">\n",
       "  <thead>\n",
       "    <tr style=\"text-align: right;\">\n",
       "      <th></th>\n",
       "      <th>title</th>\n",
       "    </tr>\n",
       "  </thead>\n",
       "  <tbody>\n",
       "    <tr>\n",
       "      <th>0</th>\n",
       "      <td>\"The Night We Met\" by Lord Huron</td>\n",
       "    </tr>\n",
       "    <tr>\n",
       "      <th>1</th>\n",
       "      <td>\"Romantic Homicide\" by d4vd</td>\n",
       "    </tr>\n",
       "    <tr>\n",
       "      <th>2</th>\n",
       "      <td>\"Penthouse\" by Kelsea Ballerini</td>\n",
       "    </tr>\n",
       "    <tr>\n",
       "      <th>3</th>\n",
       "      <td>\"It's Called: Freefall\" by Rainbow Kitten Surp...</td>\n",
       "    </tr>\n",
       "    <tr>\n",
       "      <th>4</th>\n",
       "      <td>\"Tired\" by Beabadoobee</td>\n",
       "    </tr>\n",
       "    <tr>\n",
       "      <th>5</th>\n",
       "      <td>\"BLEED\" by The Kid Laroi</td>\n",
       "    </tr>\n",
       "    <tr>\n",
       "      <th>6</th>\n",
       "      <td>\"Funeral\" by Phoebe Bridgers</td>\n",
       "    </tr>\n",
       "    <tr>\n",
       "      <th>7</th>\n",
       "      <td>\"I Remember Everything\" by Zach Bryan feat. Ka...</td>\n",
       "    </tr>\n",
       "    <tr>\n",
       "      <th>8</th>\n",
       "      <td>\"fall in love with you.\" by Montell Fish</td>\n",
       "    </tr>\n",
       "    <tr>\n",
       "      <th>9</th>\n",
       "      <td>\"Space Song\" by Beach House</td>\n",
       "    </tr>\n",
       "    <tr>\n",
       "      <th>10</th>\n",
       "      <td>\"Never Felt So Alone\" by Labrinth (with Billie...</td>\n",
       "    </tr>\n",
       "    <tr>\n",
       "      <th>11</th>\n",
       "      <td>\"Strange\" by Celeste</td>\n",
       "    </tr>\n",
       "    <tr>\n",
       "      <th>12</th>\n",
       "      <td>\"It's So Hard to Say Goodbye to Yesterday\" by ...</td>\n",
       "    </tr>\n",
       "    <tr>\n",
       "      <th>13</th>\n",
       "      <td>\"because i liked a boy\" by Sabrina Carpenter</td>\n",
       "    </tr>\n",
       "    <tr>\n",
       "      <th>14</th>\n",
       "      <td>\"Call Your Mom\" by Noah Khan, Lizzy McAlpine</td>\n",
       "    </tr>\n",
       "    <tr>\n",
       "      <th>15</th>\n",
       "      <td>\"Both Sides Now\" by Joni Mitchell</td>\n",
       "    </tr>\n",
       "    <tr>\n",
       "      <th>16</th>\n",
       "      <td>\"ceilings\" by Lizzy McAlpine</td>\n",
       "    </tr>\n",
       "    <tr>\n",
       "      <th>17</th>\n",
       "      <td>\"In The Kitchen\" by Renee Rapp</td>\n",
       "    </tr>\n",
       "    <tr>\n",
       "      <th>18</th>\n",
       "      <td>\"Liability\" by Lorde</td>\n",
       "    </tr>\n",
       "    <tr>\n",
       "      <th>19</th>\n",
       "      <td>\"Matilda\" by Harry Styles</td>\n",
       "    </tr>\n",
       "  </tbody>\n",
       "</table>\n",
       "</div>"
      ],
      "text/plain": [
       "                                                title\n",
       "0                    \"The Night We Met\" by Lord Huron\n",
       "1                         \"Romantic Homicide\" by d4vd\n",
       "2                     \"Penthouse\" by Kelsea Ballerini\n",
       "3   \"It's Called: Freefall\" by Rainbow Kitten Surp...\n",
       "4                              \"Tired\" by Beabadoobee\n",
       "5                            \"BLEED\" by The Kid Laroi\n",
       "6                        \"Funeral\" by Phoebe Bridgers\n",
       "7   \"I Remember Everything\" by Zach Bryan feat. Ka...\n",
       "8            \"fall in love with you.\" by Montell Fish\n",
       "9                         \"Space Song\" by Beach House\n",
       "10  \"Never Felt So Alone\" by Labrinth (with Billie...\n",
       "11                               \"Strange\" by Celeste\n",
       "12  \"It's So Hard to Say Goodbye to Yesterday\" by ...\n",
       "13       \"because i liked a boy\" by Sabrina Carpenter\n",
       "14       \"Call Your Mom\" by Noah Khan, Lizzy McAlpine\n",
       "15                  \"Both Sides Now\" by Joni Mitchell\n",
       "16                       \"ceilings\" by Lizzy McAlpine\n",
       "17                     \"In The Kitchen\" by Renee Rapp\n",
       "18                               \"Liability\" by Lorde\n",
       "19                          \"Matilda\" by Harry Styles"
      ]
     },
     "execution_count": 29,
     "metadata": {},
     "output_type": "execute_result"
    }
   ],
   "source": [
    "df"
   ]
  },
  {
   "cell_type": "code",
   "execution_count": 30,
   "id": "18e9d294-e917-4314-ad9b-6137d473ba2b",
   "metadata": {},
   "outputs": [],
   "source": [
    "df.to_csv('Sad Songs.csv',index=False)"
   ]
  },
  {
   "cell_type": "code",
   "execution_count": null,
   "id": "264a7637-9d7c-4bf3-8e6b-b4e15ce06d24",
   "metadata": {},
   "outputs": [],
   "source": []
  }
 ],
 "metadata": {
  "kernelspec": {
   "display_name": "Python 3 (ipykernel)",
   "language": "python",
   "name": "python3"
  },
  "language_info": {
   "codemirror_mode": {
    "name": "ipython",
    "version": 3
   },
   "file_extension": ".py",
   "mimetype": "text/x-python",
   "name": "python",
   "nbconvert_exporter": "python",
   "pygments_lexer": "ipython3",
   "version": "3.11.5"
  }
 },
 "nbformat": 4,
 "nbformat_minor": 5
}
