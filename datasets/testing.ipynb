{
 "cells": [
  {
   "cell_type": "code",
   "execution_count": 1,
   "id": "c0a38f0b-6b4f-4213-b32f-6a9cb1ef2263",
   "metadata": {},
   "outputs": [],
   "source": [
    "import requests\n",
    "from bs4 import BeautifulSoup\n",
    "import pandas as pd"
   ]
  },
  {
   "cell_type": "code",
   "execution_count": 2,
   "id": "812bad48-c786-46b1-86a5-3be01bfedaea",
   "metadata": {},
   "outputs": [],
   "source": [
    "url=\"https://letterboxd.com/mrspeanutbutter/list/feel-good/\"\n"
   ]
  },
  {
   "cell_type": "code",
   "execution_count": 3,
   "id": "07abfa3c-f283-41e9-971e-3ad0acb25c50",
   "metadata": {},
   "outputs": [],
   "source": [
    "response = requests.get(url)"
   ]
  },
  {
   "cell_type": "code",
   "execution_count": 5,
   "id": "44e36952-8f8b-4066-bab6-3a79e4a07b68",
   "metadata": {},
   "outputs": [
    {
     "data": {
      "text/plain": [
       "<Response [200]>"
      ]
     },
     "execution_count": 5,
     "metadata": {},
     "output_type": "execute_result"
    }
   ],
   "source": [
    "response"
   ]
  },
  {
   "cell_type": "code",
   "execution_count": 6,
   "id": "fd109e3d-9c7d-46b5-9681-9c294d228a60",
   "metadata": {},
   "outputs": [],
   "source": [
    "soup = BeautifulSoup(response.content, 'html.parser')"
   ]
  },
  {
   "cell_type": "code",
   "execution_count": 19,
   "id": "55e02307-a453-462d-b01c-1f8703d22b5f",
   "metadata": {},
   "outputs": [],
   "source": [
    "movie_elements = soup.find_all(attrs={\"data-original-title\": True})"
   ]
  },
  {
   "cell_type": "code",
   "execution_count": 21,
   "id": "b5b3608c-7ffa-402b-86b6-7444416a6b05",
   "metadata": {},
   "outputs": [
    {
     "name": "stdout",
     "output_type": "stream",
     "text": [
      "Reactions visible to anyone\n",
      "Reactions visible to owner’s Close Friends\n",
      "Reactions only visible to you\n",
      "Draft entry\n",
      "Visible to anyone (with link)\n",
      "Visible to the member’s friends (with link)\n",
      "Only visible to you\n"
     ]
    }
   ],
   "source": [
    "for element in movie_elements:\n",
    "    movie_name = element[\"data-original-title\"]\n",
    "    print(movie_name)"
   ]
  },
  {
   "cell_type": "code",
   "execution_count": 22,
   "id": "eb345249-49f6-4e0b-9713-428d829ae99c",
   "metadata": {},
   "outputs": [],
   "source": [
    "movie_links = soup.find_all('a', class_='frame', attrs={\"data-original-title\": True})"
   ]
  },
  {
   "cell_type": "code",
   "execution_count": 26,
   "id": "27d91aa3-a0e6-4428-a74a-e267677e206d",
   "metadata": {},
   "outputs": [
    {
     "data": {
      "text/plain": [
       "[]"
      ]
     },
     "execution_count": 26,
     "metadata": {},
     "output_type": "execute_result"
    }
   ],
   "source": [
    "# for link in movie_links:\n",
    "#     movie_name = link[\"data-original-title\"]\n",
    "#     movie_url = link[\"href\"]\n",
    "#     print(f\"Movie: {movie_name}\")\n",
    "#     print(f\"URL: {movie_url}\")\n",
    "\n",
    "movie_links"
   ]
  },
  {
   "cell_type": "code",
   "execution_count": 27,
   "id": "b831415e-ee03-4f64-8fdb-20362eb71ff0",
   "metadata": {},
   "outputs": [
    {
     "name": "stdout",
     "output_type": "stream",
     "text": [
      "Movie: Bridesmaids (2011) ★★★★★\n",
      "URL: /film/bridesmaids/\n"
     ]
    }
   ],
   "source": [
    "html_snippet = '<a href=\"/film/bridesmaids/\" class=\"frame\" data-original-title=\"Bridesmaids (2011) ★★★★★\">'\n",
    "soup = BeautifulSoup(html_snippet, 'html.parser')\n",
    "movie_name = soup.a[\"data-original-title\"]\n",
    "movie_url = soup.a[\"href\"]\n",
    "print(f\"Movie: {movie_name}\")\n",
    "print(f\"URL: {movie_url}\")"
   ]
  },
  {
   "cell_type": "code",
   "execution_count": 32,
   "id": "f4e31024-50d3-477e-b0e9-314f9baeeac0",
   "metadata": {},
   "outputs": [
    {
     "name": "stdout",
     "output_type": "stream",
     "text": [
      "Found 1 links with data-original-title\n"
     ]
    }
   ],
   "source": [
    "movie_links = soup.find_all('a', attrs={\"data-original-title\": True})\n",
    "print(f\"Found {len(movie_links)} links with data-original-title\")\n"
   ]
  },
  {
   "cell_type": "code",
   "execution_count": null,
   "id": "caf325f4-2f13-4a89-92bb-b7548fd6a2b7",
   "metadata": {},
   "outputs": [],
   "source": []
  }
 ],
 "metadata": {
  "kernelspec": {
   "display_name": "Python 3 (ipykernel)",
   "language": "python",
   "name": "python3"
  },
  "language_info": {
   "codemirror_mode": {
    "name": "ipython",
    "version": 3
   },
   "file_extension": ".py",
   "mimetype": "text/x-python",
   "name": "python",
   "nbconvert_exporter": "python",
   "pygments_lexer": "ipython3",
   "version": "3.11.5"
  }
 },
 "nbformat": 4,
 "nbformat_minor": 5
}
